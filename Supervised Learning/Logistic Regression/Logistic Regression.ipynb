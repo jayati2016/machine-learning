{
 "cells": [
  {
   "cell_type": "code",
   "execution_count": 1,
   "metadata": {
    "collapsed": true
   },
   "outputs": [],
   "source": [
    "import numpy as np\n",
    "import pandas as pd\n",
    "from matplotlib import pyplot as plt\n",
    "from collections import OrderedDict\n",
    "import itertools"
   ]
  },
  {
   "cell_type": "code",
   "execution_count": 19,
   "metadata": {
    "collapsed": true
   },
   "outputs": [],
   "source": [
    "from sklearn.metrics import confusion_matrix"
   ]
  },
  {
   "cell_type": "markdown",
   "metadata": {},
   "source": [
    "## Read Data"
   ]
  },
  {
   "cell_type": "code",
   "execution_count": 2,
   "metadata": {
    "collapsed": true
   },
   "outputs": [],
   "source": [
    "column_names = ['sepal_length', 'sepal_width', 'petal_length', 'petal_width', 'class']"
   ]
  },
  {
   "cell_type": "code",
   "execution_count": 3,
   "metadata": {
    "collapsed": true
   },
   "outputs": [],
   "source": [
    "# Link for downloading dataset: https://archive.ics.uci.edu/ml/machine-learning-databases/iris/\n",
    "df = pd.read_csv('iris.data.txt', header = None, names = column_names)"
   ]
  },
  {
   "cell_type": "code",
   "execution_count": 4,
   "metadata": {
    "collapsed": true
   },
   "outputs": [],
   "source": [
    "classes = df['class'].unique()"
   ]
  },
  {
   "cell_type": "markdown",
   "metadata": {},
   "source": [
    "## One Hot Encoding of Labels"
   ]
  },
  {
   "cell_type": "code",
   "execution_count": 5,
   "metadata": {
    "collapsed": true
   },
   "outputs": [],
   "source": [
    "# create dictionary to convert labels to index and index to labels.\n",
    "label_to_idx, idx_to_label = {}, {}\n",
    "for i, c in enumerate(df['class'].unique()):\n",
    "    label_to_idx[c] = i\n",
    "    idx_to_label[i] = c"
   ]
  },
  {
   "cell_type": "code",
   "execution_count": 6,
   "metadata": {
    "collapsed": true
   },
   "outputs": [],
   "source": [
    "def get_encoded(y):\n",
    "    \"\"\"Encodes the labels as one hot encoding.\n",
    "    First create an array of zeros of shape (total_samples, num_classes).\n",
    "    For every sample, set the value 1 at the index value of class and rest will be zero.\n",
    "    \n",
    "    Parameter\n",
    "    ---------\n",
    "    y: np.array, shape = (total_samples, 1)\n",
    "    \n",
    "    Output\n",
    "    ------\n",
    "    encoded: np.array, shape = (total_samples, num_classes)\n",
    "    \"\"\"\n",
    "    classes = df['class'].unique()\n",
    "    \n",
    "    # creates array of value zero\n",
    "    encoded = np.zeros((y.shape[0], len(classes)))\n",
    "    \n",
    "    # encode\n",
    "    for i, label in enumerate(y):\n",
    "        encoded[i][label_to_idx[label]] = 1\n",
    "    \n",
    "    return encoded"
   ]
  },
  {
   "cell_type": "markdown",
   "metadata": {},
   "source": [
    "## Divide into train and test data set"
   ]
  },
  {
   "cell_type": "code",
   "execution_count": 7,
   "metadata": {
    "collapsed": true
   },
   "outputs": [],
   "source": [
    "df['is_train'] = np.random.uniform(0, 1, len(df)) <= .75"
   ]
  },
  {
   "cell_type": "code",
   "execution_count": 8,
   "metadata": {
    "collapsed": true
   },
   "outputs": [],
   "source": [
    "train, test = df[df['is_train'] == True], df[df['is_train'] == False]"
   ]
  },
  {
   "cell_type": "code",
   "execution_count": 9,
   "metadata": {},
   "outputs": [
    {
     "name": "stdout",
     "output_type": "stream",
     "text": [
      "length of train dataset: 109\n",
      "length of test dataset: 41\n"
     ]
    }
   ],
   "source": [
    "print('length of train dataset: %d' %(len(train)))\n",
    "print('length of test dataset: %d' %(len(test)))"
   ]
  },
  {
   "cell_type": "code",
   "execution_count": 10,
   "metadata": {
    "collapsed": true
   },
   "outputs": [],
   "source": [
    "train_x = train[train.columns[:len(train.columns) - 2]]\n",
    "ones = np.ones((train_x.shape[0], 1))\n",
    "train_x_ones = np.concatenate((ones, train_x), axis = 1)\n",
    "train_y = get_encoded(train['class'])"
   ]
  },
  {
   "cell_type": "code",
   "execution_count": 11,
   "metadata": {
    "collapsed": true
   },
   "outputs": [],
   "source": [
    "test_x = test[test.columns[:len(test.columns) - 2]]\n",
    "ones = np.ones((test_x.shape[0], 1))\n",
    "test_x_ones = np.concatenate((ones, test_x), axis = 1)\n",
    "test_y = test['class']"
   ]
  },
  {
   "cell_type": "markdown",
   "metadata": {},
   "source": [
    "## Logistic Regression"
   ]
  },
  {
   "cell_type": "code",
   "execution_count": 12,
   "metadata": {
    "collapsed": true
   },
   "outputs": [],
   "source": [
    "def sigmoid(score):\n",
    "    return 1/(1 + np.exp(-score))"
   ]
  },
  {
   "cell_type": "code",
   "execution_count": 27,
   "metadata": {
    "collapsed": true
   },
   "outputs": [],
   "source": [
    "def get_cost(train_y, predict_y):\n",
    "    cost = ((-train_y * np.log(predict_y)) - (1 - train_y) * np.log(1 - predict_y)).mean()\n",
    "    #cost = 1/(train_y.shape[0]) * cost\n",
    "    return cost"
   ]
  },
  {
   "cell_type": "code",
   "execution_count": 14,
   "metadata": {
    "collapsed": true
   },
   "outputs": [],
   "source": [
    "def get_pred(pred_ind, n_classes):\n",
    "    result = []\n",
    "    for ind in pred_ind:\n",
    "        res = np.zeros((n_classes))\n",
    "        res[ind] = 1\n",
    "        result.append(res)\n",
    "    \n",
    "    return np.array(result)"
   ]
  },
  {
   "cell_type": "code",
   "execution_count": 15,
   "metadata": {
    "collapsed": true
   },
   "outputs": [],
   "source": [
    "def linear_reg(train_x, train_y, lr=0.0001, epochs=1, n_classes = 3):\n",
    "    ones = np.ones((train_x.shape[0], 1))\n",
    "    train_x_ones = np.concatenate((ones, train_x), axis = 1)\n",
    "    w = np.zeros((train_x_ones.shape[1], n_classes))\n",
    "    itr = 0\n",
    "    while itr < epochs:\n",
    "        score = np.dot(train_x_ones, w)\n",
    "        predict_y = sigmoid(score)\n",
    "        cost = get_cost(train_y, predict_y)\n",
    "        pred_index = np.argmax(predict_y, axis = 1)\n",
    "        predict_y = get_pred(pred_index, n_classes)\n",
    "        gradient = np.dot(np.transpose(train_x_ones), (predict_y - train_y))\n",
    "        w = w - lr * gradient\n",
    "        print(\"Itr: {}, loss: {}\".format(itr, cost))\n",
    "        itr += 1\n",
    "    predict = np.dot(train_x_ones, w)\n",
    "    return w"
   ]
  },
  {
   "cell_type": "code",
   "execution_count": null,
   "metadata": {},
   "outputs": [],
   "source": [
    "model = linear_reg(train_x, train_y, epochs = 10000)"
   ]
  },
  {
   "cell_type": "code",
   "execution_count": 17,
   "metadata": {
    "collapsed": true
   },
   "outputs": [],
   "source": [
    "def get_predicted_class(predicted):\n",
    "    predicted_class = [classes[np.where(p == 1)] for p in predicted]\n",
    "    return np.array(predicted_class)"
   ]
  },
  {
   "cell_type": "code",
   "execution_count": 41,
   "metadata": {
    "collapsed": true
   },
   "outputs": [],
   "source": [
    "pred_score = np.dot(test_x_ones, model)\n",
    "pred_index = np.argmax(pred_score, axis = 1)\n",
    "pred_y = get_pred(pred_index, n_classes=3)\n",
    "pred = get_predicted_class(pred_y)"
   ]
  },
  {
   "cell_type": "code",
   "execution_count": 42,
   "metadata": {
    "collapsed": true
   },
   "outputs": [],
   "source": [
    "cm = confusion_matrix(test_y.values, pred, labels = classes)"
   ]
  },
  {
   "cell_type": "code",
   "execution_count": 21,
   "metadata": {
    "collapsed": true
   },
   "outputs": [],
   "source": [
    "def plot_confusion_matrix(cm, classes,\n",
    "                          normalize=False,\n",
    "                          title='Confusion matrix',\n",
    "                          cmap=plt.cm.Blues):\n",
    "    \"\"\"\n",
    "    This function prints and plots the confusion matrix.\n",
    "    Normalization can be applied by setting `normalize=True`.\n",
    "    \"\"\"\n",
    "    if normalize:\n",
    "        cm = cm.astype('float') / cm.sum(axis=1)[:, np.newaxis]\n",
    "        print(\"Normalized confusion matrix\")\n",
    "    else:\n",
    "        print('Confusion matrix, without normalization')\n",
    "\n",
    "    print(cm)\n",
    "\n",
    "    plt.imshow(cm, interpolation='nearest', cmap=cmap)\n",
    "    plt.title(title)\n",
    "    plt.colorbar()\n",
    "    tick_marks = np.arange(len(classes))\n",
    "    plt.xticks(tick_marks, classes, rotation=45)\n",
    "    plt.yticks(tick_marks, classes)\n",
    "\n",
    "    fmt = '.2f' if normalize else 'd'\n",
    "    thresh = cm.max() / 2.\n",
    "    for i, j in itertools.product(range(cm.shape[0]), range(cm.shape[1])):\n",
    "        plt.text(j, i, format(cm[i, j], fmt),\n",
    "                 horizontalalignment=\"center\",\n",
    "                 color=\"white\" if cm[i, j] > thresh else \"black\")\n",
    "\n",
    "    plt.ylabel('True label')\n",
    "    plt.xlabel('Predicted label')\n",
    "    plt.tight_layout()"
   ]
  },
  {
   "cell_type": "code",
   "execution_count": 43,
   "metadata": {},
   "outputs": [
    {
     "name": "stdout",
     "output_type": "stream",
     "text": [
      "Confusion matrix, without normalization\n",
      "[[17  0  0]\n",
      " [ 0 13  0]\n",
      " [ 0  0 11]]\n"
     ]
    },
    {
     "data": {
      "image/png": "[encoded data removed]",
      "text/plain": [
       "<Figure size 432x288 with 2 Axes>"
      ]
     },
     "metadata": {},
     "output_type": "display_data"
    }
   ],
   "source": [
    "plt.figure()\n",
    "plot_confusion_matrix(cm, classes)\n",
    "plt.show()"
   ]
  },
  {
   "cell_type": "code",
   "execution_count": null,
   "metadata": {
    "collapsed": true
   },
   "outputs": [],
   "source": []
  }
 ],
 "metadata": {
  "kernelspec": {
   "display_name": "Python 2",
   "language": "python",
   "name": "python2"
  },
  "language_info": {
   "codemirror_mode": {
    "name": "ipython",
    "version": 2
   },
   "file_extension": ".py",
   "mimetype": "text/x-python",
   "name": "python",
   "nbconvert_exporter": "python",
   "pygments_lexer": "ipython2",
   "version": "2.7.15+"
  }
 },
 "nbformat": 4,
 "nbformat_minor": 2
}
